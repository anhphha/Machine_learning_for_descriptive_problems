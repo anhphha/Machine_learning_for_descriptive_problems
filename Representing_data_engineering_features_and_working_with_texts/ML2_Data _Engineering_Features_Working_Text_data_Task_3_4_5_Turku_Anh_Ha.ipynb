{
 "cells": [
  {
   "cell_type": "markdown",
   "metadata": {
    "id": "hXdAGuS522DQ"
   },
   "source": [
    "3. In the data package , the directory language_identification contains data for 5 languages. Based on this data, train an SVM classifier for language recognition between these 5 languages."
   ]
  },
  {
   "cell_type": "code",
   "execution_count": null,
   "metadata": {
    "colab": {
     "base_uri": "https://localhost:8080/"
    },
    "id": "CNiiACZs1xuw",
    "outputId": "cfbce9b7-9b04-474c-e3f5-854e714a49f6"
   },
   "outputs": [
    {
     "name": "stdout",
     "output_type": "stream",
     "text": [
      "File ‘intro-to-nlp.tar.gz’ already there; not retrieving.\n",
      "\n"
     ]
    }
   ],
   "source": [
    "!wget -nc http://dl.turkunlp.org/intro-to-nlp.tar.gz"
   ]
  },
  {
   "cell_type": "code",
   "execution_count": null,
   "metadata": {
    "colab": {
     "base_uri": "https://localhost:8080/"
    },
    "id": "7c7RTkB73rYx",
    "outputId": "6e526afc-7584-4ea7-ca75-25412c74ebc8"
   },
   "outputs": [
    {
     "name": "stdout",
     "output_type": "stream",
     "text": [
      "intro-to-nlp/language-identification/et_train.txt\n",
      "intro-to-nlp/language-identification/fi_train.txt\n",
      "intro-to-nlp/language-identification/fi_devel.txt\n",
      "intro-to-nlp/language-identification/et_devel.txt\n",
      "intro-to-nlp/language-identification/es_train.txt\n",
      "intro-to-nlp/language-identification/pt_train.txt\n",
      "intro-to-nlp/language-identification/es_devel.txt\n",
      "intro-to-nlp/language-identification/pt_devel.txt\n",
      "intro-to-nlp/language-identification/en_devel.txt\n",
      "intro-to-nlp/language-identification/en_train.txt\n"
     ]
    }
   ],
   "source": [
    "import tarfile\n",
    "\n",
    "tf = tarfile.open(\"intro-to-nlp.tar.gz\")\n",
    "tf.extractall()\n",
    "train_files = []\n",
    "dev_files = []\n",
    "for i in tf.getnames():\n",
    "  if i[-5:] == 'n.txt':\n",
    "    train_files.append(i)\n",
    "    print(i)\n",
    "  elif i[-5:] in 'l.txt':\n",
    "    dev_files.append(i)\n",
    "    print(i)"
   ]
  },
  {
   "cell_type": "code",
   "execution_count": null,
   "metadata": {
    "colab": {
     "base_uri": "https://localhost:8080/"
    },
    "id": "MkzWjUUa42xR",
    "outputId": "69d8b95e-269f-4455-9c1c-7d4a6822ff03"
   },
   "outputs": [
    {
     "data": {
      "text/plain": [
       "['intro-to-nlp/language-identification/et_train.txt',\n",
       " 'intro-to-nlp/language-identification/fi_train.txt',\n",
       " 'intro-to-nlp/language-identification/es_train.txt',\n",
       " 'intro-to-nlp/language-identification/pt_train.txt',\n",
       " 'intro-to-nlp/language-identification/en_train.txt']"
      ]
     },
     "execution_count": 3,
     "metadata": {
      "tags": []
     },
     "output_type": "execute_result"
    }
   ],
   "source": [
    "train_files"
   ]
  },
  {
   "cell_type": "code",
   "execution_count": null,
   "metadata": {
    "colab": {
     "base_uri": "https://localhost:8080/"
    },
    "id": "Nw11I9F43rIJ",
    "outputId": "55cf77d4-4375-48e4-abc2-79b46cbcd15a"
   },
   "outputs": [
    {
     "name": "stdout",
     "output_type": "stream",
     "text": [
      "label for language: et\n",
      "text: Peugeot 307, mida juhtis 1963. aastal sündinud Viktor, sõitis teelt välja vastu puud. \n",
      "\n",
      "label for language: et\n",
      "text: Peugeot 307, mida juhtis 1963. aastal sündinud Viktor, sõitis teelt välja vastu puud. \n",
      "\n",
      "label for language: fi\n",
      "text: Kahvi maistui silmien lievältä kirvelyltä. \n",
      "\n",
      "label for language: et\n",
      "text: Peugeot 307, mida juhtis 1963. aastal sündinud Viktor, sõitis teelt välja vastu puud. \n",
      "\n",
      "label for language: fi\n",
      "text: Kahvi maistui silmien lievältä kirvelyltä. \n",
      "\n",
      "label for language: es\n",
      "text: Así, de 1892 a 1894 datan sus creaciones más reveladoras, todas para orquesta. \n",
      "\n",
      "label for language: et\n",
      "text: Peugeot 307, mida juhtis 1963. aastal sündinud Viktor, sõitis teelt välja vastu puud. \n",
      "\n",
      "label for language: fi\n",
      "text: Kahvi maistui silmien lievältä kirvelyltä. \n",
      "\n",
      "label for language: es\n",
      "text: Así, de 1892 a 1894 datan sus creaciones más reveladoras, todas para orquesta. \n",
      "\n",
      "label for language: pt\n",
      "text: Ele sabe que não lhe dei o meu voto. \n",
      "\n",
      "label for language: et\n",
      "text: Peugeot 307, mida juhtis 1963. aastal sündinud Viktor, sõitis teelt välja vastu puud. \n",
      "\n",
      "label for language: fi\n",
      "text: Kahvi maistui silmien lievältä kirvelyltä. \n",
      "\n",
      "label for language: es\n",
      "text: Así, de 1892 a 1894 datan sus creaciones más reveladoras, todas para orquesta. \n",
      "\n",
      "label for language: pt\n",
      "text: Ele sabe que não lhe dei o meu voto. \n",
      "\n",
      "label for language: en\n",
      "text: Since September 11, Pakistan has been repeatedly accused by Afghan and Western leaders of harbouring Taliban extremists who had pledged to disrupt the elections, but at the highest level the US has avoided criticising President Pervaiz Musharraf on the grounds that he is helping the US catch Al Qaeda elements inside Pakistan. \n",
      "\n"
     ]
    }
   ],
   "source": [
    "# Train features\n",
    "all_texts = []\n",
    "all_labels = []\n",
    "\n",
    "#Test features\n",
    "dev_texts = []\n",
    "dev_labels = []\n",
    "\n",
    "for i in train_files:\n",
    "  language_sample = []\n",
    "  language_label = []\n",
    "  with open(i) as f:\n",
    "    for line in f:\n",
    "      language_sample.append(line.rstrip('\\n'))\n",
    "      language_label.append(i[-12:-10])\n",
    "  all_texts += language_sample\n",
    "  all_labels += language_label\n",
    "\n",
    "  for i in dev_files:\n",
    "    dev_sample = []\n",
    "    dev_label = []\n",
    "    with open(i) as f:\n",
    "      for line in f:\n",
    "        dev_sample.append(line.rstrip('\\n'))\n",
    "        dev_label.append(i[-12:-10])\n",
    "    dev_texts += dev_sample\n",
    "    dev_labels += dev_labels\n",
    "\n",
    "  for i in range(0,len(all_texts),1000):\n",
    "    print(\"label for language:\", all_labels[i])\n",
    "    print(\"text:\", all_texts[i], \"\\n\")"
   ]
  },
  {
   "cell_type": "code",
   "execution_count": null,
   "metadata": {
    "id": "yLuxpJ6--Gkz"
   },
   "outputs": [],
   "source": [
    "import sklearn\n",
    "import pandas as pd\n",
    "from sklearn.model_selection import train_test_split #split data\n",
    "from sklearn.feature_extraction.text import CountVectorizer\n",
    "\n",
    "vectorizer = CountVectorizer(ngram_range=(1,1))\n",
    "\n",
    "train_texts, dev_texts, train_labels, dev_labels=train_test_split(all_texts,all_labels,test_size=0.2)\n",
    "feature_matrix_train = vectorizer.fit_transform(all_texts)\n",
    "feature_matrix_dev = vectorizer.transform(dev_texts)"
   ]
  },
  {
   "cell_type": "code",
   "execution_count": null,
   "metadata": {
    "colab": {
     "base_uri": "https://localhost:8080/"
    },
    "id": "bsErlRCAv3AA",
    "outputId": "3d77b6fe-88e4-4dd7-acad-d4f7c50ec738"
   },
   "outputs": [
    {
     "name": "stdout",
     "output_type": "stream",
     "text": [
      "(5000, 28620)\n",
      "(1000, 28620)\n"
     ]
    }
   ],
   "source": [
    "print(feature_matrix_train.shape)\n",
    "print(feature_matrix_dev.shape)"
   ]
  },
  {
   "cell_type": "code",
   "execution_count": null,
   "metadata": {
    "id": "-1my-oGR7U85"
   },
   "outputs": [],
   "source": [
    "#LabelEncoding\n",
    "from sklearn import preprocessing\n",
    "le = preprocessing.LabelEncoder()\n",
    "transformed_labels = le.fit_transform(all_labels)\n",
    "dev_transformed_labels = le.transform(dev_labels)"
   ]
  },
  {
   "cell_type": "code",
   "execution_count": null,
   "metadata": {
    "colab": {
     "base_uri": "https://localhost:8080/"
    },
    "id": "28wtpaq4-HB1",
    "outputId": "be4536c9-eda0-48b9-f742-346d5dbbfa46"
   },
   "outputs": [
    {
     "name": "stdout",
     "output_type": "stream",
     "text": [
      "[LibLinear]"
     ]
    },
    {
     "data": {
      "text/plain": [
       "LinearSVC(C=0.0005, class_weight=None, dual=True, fit_intercept=True,\n",
       "          intercept_scaling=1, loss='squared_hinge', max_iter=1000,\n",
       "          multi_class='ovr', penalty='l2', random_state=None, tol=0.0001,\n",
       "          verbose=1)"
      ]
     },
     "execution_count": 8,
     "metadata": {
      "tags": []
     },
     "output_type": "execute_result"
    }
   ],
   "source": [
    "import sklearn.svm\n",
    "classifier=sklearn.svm.LinearSVC(C=0.0005,verbose=1)\n",
    "classifier.fit(feature_matrix_train,transformed_labels)"
   ]
  },
  {
   "cell_type": "code",
   "execution_count": null,
   "metadata": {
    "colab": {
     "base_uri": "https://localhost:8080/"
    },
    "id": "MvKoZpzE-_Va",
    "outputId": "403ee3ac-df64-491f-9a7b-79b20d7a9578"
   },
   "outputs": [
    {
     "name": "stdout",
     "output_type": "stream",
     "text": [
      "DEV 0.891\n",
      "TRAIN 0.889\n"
     ]
    }
   ],
   "source": [
    "print(\"DEV\",classifier.score(feature_matrix_dev, dev_transformed_labels))\n",
    "print(\"TRAIN\",classifier.score(feature_matrix_train, transformed_labels))"
   ]
  },
  {
   "cell_type": "markdown",
   "metadata": {
    "id": "c9jKQDNB93nO"
   },
   "source": [
    "4. Toy around with features, especially the ngram_range and analyzer parameters, which allow you to test classification based on character ngrams of various lengths. Gain some insight into the accuracy of the classifier with different features and comment on your findings."
   ]
  },
  {
   "cell_type": "code",
   "execution_count": null,
   "metadata": {
    "colab": {
     "base_uri": "https://localhost:8080/"
    },
    "id": "zFjtUEGb-Zup",
    "outputId": "0dd1ce0d-2538-453a-a0f3-51c2bdd5dcba"
   },
   "outputs": [
    {
     "name": "stdout",
     "output_type": "stream",
     "text": [
      "[LibLinear]Accuracy score with ngram = 1 and c_param = 0.0005 as parameter:\n",
      "\tDEV: 0.891\n",
      "\tTRAIN: 0.889\n",
      "\n",
      "[LibLinear]Accuracy score with ngram = 1 and c_param = 0.005 as parameter:\n",
      "\tDEV: 0.953\n",
      "\tTRAIN: 0.945\n",
      "\n",
      "[LibLinear]Accuracy score with ngram = 1 and c_param = 0.05 as parameter:\n",
      "\tDEV: 0.997\n",
      "\tTRAIN: 0.9954\n",
      "\n",
      "[LibLinear]Accuracy score with ngram = 1 and c_param = 0.5 as parameter:\n",
      "\tDEV: 1.0\n",
      "\tTRAIN: 0.9996\n",
      "\n",
      "[LibLinear]Accuracy score with ngram = 2 and c_param = 0.0005 as parameter:\n",
      "\tDEV: 0.891\n",
      "\tTRAIN: 0.889\n",
      "\n",
      "[LibLinear]Accuracy score with ngram = 2 and c_param = 0.005 as parameter:\n",
      "\tDEV: 0.953\n",
      "\tTRAIN: 0.945\n",
      "\n",
      "[LibLinear]Accuracy score with ngram = 2 and c_param = 0.05 as parameter:\n",
      "\tDEV: 0.997\n",
      "\tTRAIN: 0.9954\n",
      "\n",
      "[LibLinear]Accuracy score with ngram = 2 and c_param = 0.5 as parameter:\n",
      "\tDEV: 1.0\n",
      "\tTRAIN: 0.9996\n",
      "\n",
      "[LibLinear]Accuracy score with ngram = 3 and c_param = 0.0005 as parameter:\n",
      "\tDEV: 0.891\n",
      "\tTRAIN: 0.889\n",
      "\n",
      "[LibLinear]Accuracy score with ngram = 3 and c_param = 0.005 as parameter:\n",
      "\tDEV: 0.953\n",
      "\tTRAIN: 0.945\n",
      "\n",
      "[LibLinear]Accuracy score with ngram = 3 and c_param = 0.05 as parameter:\n",
      "\tDEV: 0.997\n",
      "\tTRAIN: 0.9954\n",
      "\n",
      "[LibLinear]Accuracy score with ngram = 3 and c_param = 0.5 as parameter:\n",
      "\tDEV: 1.0\n",
      "\tTRAIN: 0.9996\n",
      "\n",
      "[LibLinear]Accuracy score with ngram = 4 and c_param = 0.0005 as parameter:\n",
      "\tDEV: 0.891\n",
      "\tTRAIN: 0.889\n",
      "\n",
      "[LibLinear]Accuracy score with ngram = 4 and c_param = 0.005 as parameter:\n",
      "\tDEV: 0.953\n",
      "\tTRAIN: 0.945\n",
      "\n",
      "[LibLinear]Accuracy score with ngram = 4 and c_param = 0.05 as parameter:\n",
      "\tDEV: 0.997\n",
      "\tTRAIN: 0.9954\n",
      "\n",
      "[LibLinear]Accuracy score with ngram = 4 and c_param = 0.5 as parameter:\n",
      "\tDEV: 1.0\n",
      "\tTRAIN: 0.9996\n",
      "\n"
     ]
    }
   ],
   "source": [
    "ngram = list(range(1,5))\n",
    "c_param = [0.0005, 0.005, 0.05, 0.5]\n",
    "dev_score = []\n",
    "for n in ngram:\n",
    "  for c in c_param:\n",
    "    vectorizer1 = CountVectorizer(ngram_range=(n,n))\n",
    "    feature_matrix_train1 = vectorizer.fit_transform(all_texts)\n",
    "    feature_matrix_dev1 = vectorizer.transform(dev_texts)\n",
    "    classifier1=sklearn.svm.LinearSVC(C=c,verbose=1)\n",
    "    classifier1.fit(feature_matrix_train1,transformed_labels)\n",
    "    dev_score.append(classifier1.score(feature_matrix_dev1, dev_transformed_labels))\n",
    "    print(f\"Accuracy score with ngram = {n} and c_param = {c} as parameter:\")\n",
    "    print(f\"\\tDEV: {classifier1.score(feature_matrix_dev1, dev_transformed_labels)}\")\n",
    "    print(f\"\\tTRAIN: {classifier1.score(feature_matrix_train1, transformed_labels)}\\n\")"
   ]
  },
  {
   "cell_type": "code",
   "execution_count": null,
   "metadata": {
    "id": "vRG9jlUPMXyk"
   },
   "outputs": [],
   "source": [
    "import matplotlib\n",
    "import matplotlib.pyplot as plt\n",
    "import numpy as np"
   ]
  },
  {
   "cell_type": "code",
   "execution_count": null,
   "metadata": {
    "colab": {
     "base_uri": "https://localhost:8080/",
     "height": 297
    },
    "id": "eSGIDmbV-Z7o",
    "outputId": "9c262520-ea57-4dc3-ea7d-0a1fd7b5274d"
   },
   "outputs": [
    {
     "data": {
      "image/png": "[encoded data removed]",
      "text/plain": [
       "<Figure size 432x288 with 1 Axes>"
      ]
     },
     "metadata": {
      "needs_background": "light",
      "tags": []
     },
     "output_type": "display_data"
    }
   ],
   "source": [
    "scores = np.array(dev_score).reshape(4, 4)\n",
    "fig, ax = plt.subplots()\n",
    "im = ax.imshow(scores)\n",
    "ax.set_xticks(np.arange(len(c_param)))\n",
    "ax.set_yticks(np.arange(len(ngram)))\n",
    "ax.set_xticklabels(ngram)\n",
    "ax.set_yticklabels(c_param)\n",
    "for i in range(len(c_param)):\n",
    "    for j in range(len(ngram)):\n",
    "      text =  ax.text(i,j, scores[i,j],\n",
    "                    ha = \"center\", va = \"center\", color = \"white\")\n",
    "ax.set_title(\"Dev score heatmap\")\n",
    "fig.tight_layout()\n",
    "plt.show()"
   ]
  },
  {
   "cell_type": "markdown",
   "metadata": {
    "id": "GT1e7GHCYDgA"
   },
   "source": [
    "#Conclusions:\n",
    "\n",
    "1. N-gram does not make any influence on the final results.\n",
    "2. C-param does make effort to train the data for better accuracy.\n",
    "3. with C-param = 0.5, train and test score showed over-fitting."
   ]
  },
  {
   "cell_type": "markdown",
   "metadata": {
    "id": "_IL5NJTu-MSu"
   },
   "source": [
    "5. Obtain the learning curve of the classifier, i.e. the accuracy with respect to a varying amount of training data. How little data can you use for training, and still obtain reasonable results? I leave it up to you which dataset you choose, IMDB or languages or any other data you find interesting."
   ]
  },
  {
   "cell_type": "code",
   "execution_count": null,
   "metadata": {
    "id": "jJcyoUpz-azn"
   },
   "outputs": [],
   "source": [
    "def training_data(n):\n",
    "  accuracy_score = []\n",
    "  for p in range(5,n,10):\n",
    "    n_training = []\n",
    "    n_labels = []\n",
    "    n_each = int(p/3)\n",
    "    for e in train_files:\n",
    "      language_sample = []\n",
    "      language_label = []\n",
    "      with open(e) as f:\n",
    "        for line in f:\n",
    "          if len(language_sample) < n_each:\n",
    "            language_sample.append(line.rstrip('\\n'))\n",
    "            language_label.append(e[-12:-10])\n",
    "          else:\n",
    "            continue\n",
    "      n_training += language_sample\n",
    "      n_labels += language_label\n",
    "    \n",
    "    # label encoding\n",
    "    n_transformed_labels = le.fit_transform(n_labels)\n",
    "    n_dev_transformed_labels = le.transform(dev_labels)\n",
    "\n",
    "    #building model\n",
    "    vectorizer2 = CountVectorizer(ngram_range=(1,1))\n",
    "    feature_matrix_train2 = vectorizer2.fit_transform(n_training)\n",
    "    feature_matrix_dev2 = vectorizer2.transform(dev_texts)\n",
    "    classifier2 = sklearn.svm.LinearSVC(C=0.5,verbose=1)\n",
    "    classifier2.fit(feature_matrix_train2, n_transformed_labels)\n",
    "    accuracy_score.append(classifier2.score(feature_matrix_dev2, n_dev_transformed_labels))\n",
    "\n",
    "# create a numpy array \"m_values\" containing the values 1,2...,max_m\n",
    "  m_values = np.arange(5, n, 10)\n",
    "  fig2, axes2 = plt.subplots(nrows=1, ncols=1, figsize=(8, 4))\n",
    "  axes2.plot(m_values, accuracy_score, label='Accuracy', color='blue')\n",
    "  axes2.set_xlabel('Number of data points')\n",
    "  axes2.set_ylabel('Accuracy')\n",
    "  axes2.set_title('Accuracy vs. number of data points')\n",
    "  axes2.legend()\n",
    "  plt.tight_layout()\n",
    "  plt.show()"
   ]
  },
  {
   "cell_type": "code",
   "execution_count": null,
   "metadata": {
    "colab": {
     "base_uri": "https://localhost:8080/",
     "height": 334
    },
    "id": "Zwi_BCG_-bBT",
    "outputId": "29f0e24b-7105-4a40-9a08-593c07a45ff6"
   },
   "outputs": [
    {
     "name": "stdout",
     "output_type": "stream",
     "text": [
      "[LibLinear][LibLinear][LibLinear][LibLinear][LibLinear][LibLinear][LibLinear][LibLinear][LibLinear][LibLinear][LibLinear][LibLinear][LibLinear][LibLinear][LibLinear][LibLinear][LibLinear][LibLinear][LibLinear][LibLinear][LibLinear][LibLinear][LibLinear][LibLinear][LibLinear][LibLinear][LibLinear][LibLinear][LibLinear][LibLinear][LibLinear][LibLinear][LibLinear][LibLinear][LibLinear][LibLinear][LibLinear][LibLinear][LibLinear][LibLinear][LibLinear][LibLinear][LibLinear][LibLinear][LibLinear][LibLinear][LibLinear][LibLinear][LibLinear][LibLinear][LibLinear][LibLinear][LibLinear][LibLinear][LibLinear][LibLinear][LibLinear][LibLinear][LibLinear][LibLinear][LibLinear][LibLinear][LibLinear][LibLinear][LibLinear][LibLinear][LibLinear][LibLinear][LibLinear][LibLinear][LibLinear][LibLinear][LibLinear][LibLinear][LibLinear][LibLinear][LibLinear][LibLinear][LibLinear][LibLinear][LibLinear][LibLinear][LibLinear][LibLinear][LibLinear][LibLinear][LibLinear][LibLinear][LibLinear][LibLinear][LibLinear][LibLinear][LibLinear][LibLinear][LibLinear][LibLinear][LibLinear][LibLinear][LibLinear][LibLinear][LibLinear][LibLinear][LibLinear][LibLinear][LibLinear][LibLinear][LibLinear][LibLinear][LibLinear][LibLinear][LibLinear][LibLinear][LibLinear][LibLinear][LibLinear][LibLinear][LibLinear][LibLinear][LibLinear][LibLinear][LibLinear][LibLinear][LibLinear][LibLinear][LibLinear][LibLinear][LibLinear][LibLinear][LibLinear][LibLinear][LibLinear][LibLinear][LibLinear][LibLinear][LibLinear][LibLinear][LibLinear][LibLinear][LibLinear][LibLinear][LibLinear][LibLinear][LibLinear][LibLinear][LibLinear][LibLinear][LibLinear][LibLinear][LibLinear][LibLinear][LibLinear][LibLinear][LibLinear][LibLinear][LibLinear][LibLinear][LibLinear][LibLinear][LibLinear][LibLinear]"
     ]
    },
    {
     "data": {
      "image/png": "[encoded data removed]",
      "text/plain": [
       "<Figure size 576x288 with 1 Axes>"
      ]
     },
     "metadata": {
      "needs_background": "light",
      "tags": []
     },
     "output_type": "display_data"
    }
   ],
   "source": [
    "# Learning curve with 1599 training data.\n",
    "training_data(1599)"
   ]
  },
  {
   "cell_type": "markdown",
   "metadata": {
    "id": "QLzs816C_Ay8"
   },
   "source": [
    "# Conclusions:\n",
    "\n",
    "1. The first 200 training data, the accuracy has a steep increace. About 200 training data point have great influence on the learning curve of the classification. \n",
    "2. After that, from 200-400 training data, the data accuracy improved, over 80% accuracy.\n",
    "3. About 0-400/600 training data points could be regarded as good amount of data for data classification.  "
   ]
  },
  {
   "cell_type": "code",
   "execution_count": null,
   "metadata": {
    "id": "HjP2IsoL-bQ-"
   },
   "outputs": [],
   "source": []
  },
  {
   "cell_type": "markdown",
   "metadata": {
    "id": "7SGph6xT2Vgv"
   },
   "source": []
  }
 ],
 "metadata": {
  "colab": {
   "collapsed_sections": [],
   "name": "ML_Ass 2_Task 3 + 4 + 5_Turku_Anh Ha.ipynb",
   "provenance": []
  },
  "kernelspec": {
   "display_name": "Python 3",
   "language": "python",
   "name": "python3"
  },
  "language_info": {
   "codemirror_mode": {
    "name": "ipython",
    "version": 3
   },
   "file_extension": ".py",
   "mimetype": "text/x-python",
   "name": "python",
   "nbconvert_exporter": "python",
   "pygments_lexer": "ipython3",
   "version": "3.8.3"
  }
 },
 "nbformat": 4,
 "nbformat_minor": 1
}
