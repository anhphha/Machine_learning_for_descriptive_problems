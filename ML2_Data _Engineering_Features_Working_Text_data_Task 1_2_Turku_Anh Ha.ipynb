{
 "cells": [
  {
   "cell_type": "markdown",
   "metadata": {},
   "source": [
    "1. Test the TfidfVectorizer in place of CountVectorizer on the IMDB data. Do you see any difference in the classification results or the optimal C value?\n"
   ]
  },
  {
   "cell_type": "code",
   "execution_count": 1,
   "metadata": {},
   "outputs": [
    {
     "name": "stdout",
     "output_type": "stream",
     "text": [
      "class label: neg\n",
      "text: The film starts to slowly when we got to the cinema we thought it looked quite good but after about 5 mins we were all bored out of our minds and wondering what kind of film we had come to see, i don't like this film and wouldn't recommend it to anyone, the best part of the night was when the alarm and lights came back on because the project broke down because we thought we could all go home. this has to be one of the worst films i have ever seen we were all bored out of or minds and most of the people in the cinema actually RAN out of the doors at the end because it was so rubbish. i am surprised that no one walked out earlier than that. if you go and see it make sure you something to keep you busy, better still Don't go and see it at all.\n"
     ]
    }
   ],
   "source": [
    "import json\n",
    "import random\n",
    "with open(\"imdb_train.json\") as f:\n",
    "    data=json.load(f)\n",
    "random.shuffle(data)\n",
    "print(\"class label:\", data[0][\"class\"])\n",
    "print(\"text:\",data[0][\"text\"])"
   ]
  },
  {
   "cell_type": "code",
   "execution_count": 2,
   "metadata": {
    "scrolled": true
   },
   "outputs": [
    {
     "name": "stdout",
     "output_type": "stream",
     "text": [
      "This many texts 25000\n",
      "This many labels 25000\n",
      "\n",
      "neg The film starts to slowly when we got to the cinem...\n",
      "pos This is one of my all-time favorite films, and whi...\n",
      "pos I used to watch this show when I was a little girl...\n",
      "neg My dad is a fan of Columbo and I had always dislik...\n",
      "pos I won't claim to be a fan of Ralph Bakshi, because...\n",
      "neg If I had known this movie was filmed in the exaspe...\n",
      "neg Im watching it now on pink (Serbia TV station) and...\n",
      "neg - A newlywed couple move into the home of the husb...\n",
      "pos This movie was excellent for the following reasons...\n",
      "neg i am a big fan of karishma Kapoor and Govinda. I w...\n",
      "neg The best Laurel and Hardy shorts are filled to the...\n",
      "neg Not a `woman film' but film for the gang. One of t...\n",
      "neg A dedicated fan to the TLK movies, with the first ...\n",
      "neg THE CHOKE (aka AXE in the UK) is a slasher produce...\n",
      "neg Wow... what would you do with $33m? Let me give yo...\n",
      "neg I dunno what the hype around this is... This is re...\n",
      "pos Broadway and film actor-turned-director John Cassa...\n",
      "neg I have never seen one of these SciFi originals bef...\n",
      "pos As a low budget enterprise in which the filmmakers...\n",
      "pos \\Bedknobs and Broomsticks\\\" is a magical adventure...\n"
     ]
    }
   ],
   "source": [
    "# We need to gather the texts and labels into separate lists\n",
    "texts=[one_example[\"text\"] for one_example in data]\n",
    "labels=[one_example[\"class\"] for one_example in data]\n",
    "print(\"This many texts\",len(texts))\n",
    "print(\"This many labels\",len(labels))\n",
    "print()\n",
    "for label,text in list(zip(labels,texts))[:20]:\n",
    "    print(label,text[:50]+\"...\")\n"
   ]
  },
  {
   "cell_type": "code",
   "execution_count": 3,
   "metadata": {},
   "outputs": [],
   "source": [
    "import pandas as pd\n",
    "from sklearn.feature_extraction.text import TfidfVectorizer\n",
    "from sklearn.model_selection import train_test_split #split data\n",
    "\n",
    "train_texts, dev_texts, train_labels, dev_labels=train_test_split(texts,labels,test_size=0.2)\n",
    "tfidfvectorizer=TfidfVectorizer(max_features=100000,binary=True,ngram_range=(1,1))\n",
    "feature_matrix_train=tfidfvectorizer.fit_transform(train_texts)\n",
    "feature_matrix_dev=tfidfvectorizer.transform(dev_texts)"
   ]
  },
  {
   "cell_type": "code",
   "execution_count": 4,
   "metadata": {
    "scrolled": true
   },
   "outputs": [
    {
     "name": "stdout",
     "output_type": "stream",
     "text": [
      "(20000, 68452)\n",
      "(5000, 68452)\n"
     ]
    }
   ],
   "source": [
    "print(feature_matrix_train.shape)\n",
    "print(feature_matrix_dev.shape)"
   ]
  },
  {
   "cell_type": "markdown",
   "metadata": {},
   "source": [
    "Optimal C value = 0.0005"
   ]
  },
  {
   "cell_type": "code",
   "execution_count": 5,
   "metadata": {},
   "outputs": [
    {
     "name": "stdout",
     "output_type": "stream",
     "text": [
      "[LibLinear]"
     ]
    },
    {
     "data": {
      "text/plain": [
       "LinearSVC(C=0.0005, verbose=1)"
      ]
     },
     "execution_count": 5,
     "metadata": {},
     "output_type": "execute_result"
    }
   ],
   "source": [
    "import sklearn.svm #train via classifier\n",
    "classifier=sklearn.svm.LinearSVC(C=0.0005,verbose=1)\n",
    "classifier.fit(feature_matrix_train, train_labels)"
   ]
  },
  {
   "cell_type": "code",
   "execution_count": 6,
   "metadata": {},
   "outputs": [
    {
     "name": "stdout",
     "output_type": "stream",
     "text": [
      "DEV 0.8128\n",
      "TRAIN 0.83585\n"
     ]
    }
   ],
   "source": [
    "#Test data\n",
    "print(\"DEV\",classifier.score(feature_matrix_dev, dev_labels))\n",
    "print(\"TRAIN\",classifier.score(feature_matrix_train, train_labels))"
   ]
  },
  {
   "cell_type": "code",
   "execution_count": 10,
   "metadata": {},
   "outputs": [
    {
     "name": "stdout",
     "output_type": "stream",
     "text": [
      "['neg' 'pos' 'pos' ... 'neg' 'pos' 'neg']\n",
      "[[1863  690]\n",
      " [ 246 2201]]\n",
      "0.8128\n"
     ]
    }
   ],
   "source": [
    "import sklearn.metrics\n",
    "predictions_dev=classifier.predict(feature_matrix_dev)\n",
    "print(predictions_dev)\n",
    "print(sklearn.metrics.confusion_matrix(dev_labels,predictions_dev))\n",
    "print(sklearn.metrics.accuracy_score(dev_labels,predictions_dev))"
   ]
  },
  {
   "cell_type": "code",
   "execution_count": 8,
   "metadata": {},
   "outputs": [],
   "source": [
    "import pickle\n",
    "\n",
    "with open(\"saved_model.pickle\",\"wb\") as f:\n",
    "    pickle.dump((classifier,tfidfvectorizer),f)"
   ]
  },
  {
   "cell_type": "code",
   "execution_count": 9,
   "metadata": {},
   "outputs": [
    {
     "name": "stdout",
     "output_type": "stream",
     "text": [
      "DEV - loaded (should match the score above) 0.8128\n"
     ]
    }
   ],
   "source": [
    "with open(\"saved_model.pickle\",\"rb\") as f:\n",
    "    classifier_loaded,vectorizer_loaded=pickle.load(f)\n",
    "\n",
    "feature_matrix_dev_loaded=vectorizer_loaded.transform(dev_texts)\n",
    "print(\"DEV - loaded (should match the score above)\",classifier_loaded.score(feature_matrix_dev, dev_labels))"
   ]
  },
  {
   "cell_type": "markdown",
   "metadata": {},
   "source": [
    "- C value = 0.0005 returns dev set with accuracy score of 83.54% \n",
    "- the result from tfidfvectorizer is not as good as countvectorizer"
   ]
  },
  {
   "cell_type": "markdown",
   "metadata": {},
   "source": [
    "Optimal C value = 0.05"
   ]
  },
  {
   "cell_type": "code",
   "execution_count": 7,
   "metadata": {},
   "outputs": [
    {
     "name": "stdout",
     "output_type": "stream",
     "text": [
      "[LibLinear]"
     ]
    },
    {
     "data": {
      "text/plain": [
       "LinearSVC(C=0.05, verbose=1)"
      ]
     },
     "execution_count": 7,
     "metadata": {},
     "output_type": "execute_result"
    }
   ],
   "source": [
    "import sklearn.svm #train via classifier\n",
    "classifier2=sklearn.svm.LinearSVC(C=0.05,verbose=1)\n",
    "classifier2.fit(feature_matrix_train, train_labels)"
   ]
  },
  {
   "cell_type": "code",
   "execution_count": 8,
   "metadata": {},
   "outputs": [
    {
     "name": "stdout",
     "output_type": "stream",
     "text": [
      "DEV 0.8934\n",
      "TRAIN 0.922\n"
     ]
    }
   ],
   "source": [
    "#Test data\n",
    "print(\"DEV\",classifier2.score(feature_matrix_dev, dev_labels))\n",
    "print(\"TRAIN\",classifier2.score(feature_matrix_train, train_labels))"
   ]
  },
  {
   "cell_type": "markdown",
   "metadata": {},
   "source": [
    "C value = 0.05 returns dev set with accuracy score of 89.34%"
   ]
  },
  {
   "cell_type": "markdown",
   "metadata": {},
   "source": [
    "Optimal C value = 0.5"
   ]
  },
  {
   "cell_type": "code",
   "execution_count": 9,
   "metadata": {},
   "outputs": [
    {
     "name": "stdout",
     "output_type": "stream",
     "text": [
      "[LibLinear]"
     ]
    },
    {
     "data": {
      "text/plain": [
       "LinearSVC(C=0.5, verbose=1)"
      ]
     },
     "execution_count": 9,
     "metadata": {},
     "output_type": "execute_result"
    }
   ],
   "source": [
    "import sklearn.svm #train via classifier\n",
    "classifier3=sklearn.svm.LinearSVC(C=0.5,verbose=1)\n",
    "classifier3.fit(feature_matrix_train, train_labels)"
   ]
  },
  {
   "cell_type": "code",
   "execution_count": 10,
   "metadata": {},
   "outputs": [
    {
     "name": "stdout",
     "output_type": "stream",
     "text": [
      "DEV 0.8944\n",
      "TRAIN 0.98505\n"
     ]
    }
   ],
   "source": [
    "#Test data\n",
    "print(\"DEV\",classifier3.score(feature_matrix_dev, dev_labels))\n",
    "print(\"TRAIN\",classifier3.score(feature_matrix_train, train_labels))"
   ]
  },
  {
   "cell_type": "markdown",
   "metadata": {},
   "source": [
    "C value = 0.5 returns dev set with accuracy score of 89.44%"
   ]
  },
  {
   "cell_type": "markdown",
   "metadata": {},
   "source": [
    "2. Test different lengths of n-grams in the CountVectorizer on the IMDB data. Do you see any difference in the classification results or the optimal C value?"
   ]
  },
  {
   "cell_type": "markdown",
   "metadata": {},
   "source": [
    "N-grams = 1, C = 0.0005"
   ]
  },
  {
   "cell_type": "code",
   "execution_count": 11,
   "metadata": {},
   "outputs": [],
   "source": [
    "import sklearn\n",
    "from sklearn.feature_extraction.text import CountVectorizer\n",
    "train_texts, dev_texts, train_labels, dev_labels=train_test_split(texts,labels,test_size=0.2)\n",
    "vectorizer=CountVectorizer()\n"
   ]
  },
  {
   "cell_type": "code",
   "execution_count": 12,
   "metadata": {},
   "outputs": [],
   "source": [
    "from sklearn.model_selection import train_test_split #split data\n",
    "\n",
    "train_texts, dev_texts, train_labels, dev_labels=train_test_split(texts,labels,test_size=0.2)\n",
    "vectorizer1=CountVectorizer(max_features=100000,binary=True,ngram_range=(1,1))\n",
    "feature_matrix_train1=vectorizer1.fit_transform(train_texts)\n",
    "feature_matrix_dev1=vectorizer1.transform(dev_texts)"
   ]
  },
  {
   "cell_type": "code",
   "execution_count": 13,
   "metadata": {},
   "outputs": [
    {
     "name": "stdout",
     "output_type": "stream",
     "text": [
      "(20000, 68298)\n",
      "(5000, 68298)\n"
     ]
    }
   ],
   "source": [
    "print(feature_matrix_train1.shape)\n",
    "print(feature_matrix_dev1.shape)"
   ]
  },
  {
   "cell_type": "code",
   "execution_count": 14,
   "metadata": {},
   "outputs": [
    {
     "name": "stdout",
     "output_type": "stream",
     "text": [
      "[LibLinear]"
     ]
    },
    {
     "data": {
      "text/plain": [
       "LinearSVC(C=0.0005, verbose=1)"
      ]
     },
     "execution_count": 14,
     "metadata": {},
     "output_type": "execute_result"
    }
   ],
   "source": [
    "import sklearn.svm #train via classifier\n",
    "classifier4=sklearn.svm.LinearSVC(C=0.0005,verbose=1)\n",
    "classifier4.fit(feature_matrix_train1, train_labels)"
   ]
  },
  {
   "cell_type": "code",
   "execution_count": 15,
   "metadata": {},
   "outputs": [
    {
     "name": "stdout",
     "output_type": "stream",
     "text": [
      "DEV 0.8662\n",
      "TRAIN 0.8954\n"
     ]
    }
   ],
   "source": [
    "#Test data\n",
    "print(\"DEV\",classifier4.score(feature_matrix_dev1, dev_labels))\n",
    "print(\"TRAIN\",classifier4.score(feature_matrix_train1, train_labels))"
   ]
  },
  {
   "cell_type": "code",
   "execution_count": 16,
   "metadata": {},
   "outputs": [
    {
     "name": "stdout",
     "output_type": "stream",
     "text": [
      "['pos' 'neg' 'pos' ... 'neg' 'neg' 'neg']\n",
      "[[2163  358]\n",
      " [ 311 2168]]\n",
      "0.8662\n"
     ]
    }
   ],
   "source": [
    "# Test C value and see the results\n",
    "import sklearn.metrics\n",
    "predictions_dev1=classifier4.predict(feature_matrix_dev1)\n",
    "print(predictions_dev1)\n",
    "print(sklearn.metrics.confusion_matrix(dev_labels,predictions_dev1))\n",
    "print(sklearn.metrics.accuracy_score(dev_labels,predictions_dev1))"
   ]
  },
  {
   "cell_type": "markdown",
   "metadata": {},
   "source": [
    "N-grams = 1, C = 0.005"
   ]
  },
  {
   "cell_type": "code",
   "execution_count": 17,
   "metadata": {},
   "outputs": [
    {
     "name": "stdout",
     "output_type": "stream",
     "text": [
      "[LibLinear]"
     ]
    },
    {
     "data": {
      "text/plain": [
       "LinearSVC(C=0.005, verbose=1)"
      ]
     },
     "execution_count": 17,
     "metadata": {},
     "output_type": "execute_result"
    }
   ],
   "source": [
    "import sklearn.svm #train via classifier\n",
    "classifier4=sklearn.svm.LinearSVC(C=0.005,verbose=1)\n",
    "classifier4.fit(feature_matrix_train1, train_labels)"
   ]
  },
  {
   "cell_type": "code",
   "execution_count": 18,
   "metadata": {},
   "outputs": [
    {
     "name": "stdout",
     "output_type": "stream",
     "text": [
      "DEV 0.8796\n",
      "TRAIN 0.9566\n"
     ]
    }
   ],
   "source": [
    "#Test data\n",
    "print(\"DEV\",classifier4.score(feature_matrix_dev1, dev_labels))\n",
    "print(\"TRAIN\",classifier4.score(feature_matrix_train1, train_labels))"
   ]
  },
  {
   "cell_type": "code",
   "execution_count": 19,
   "metadata": {},
   "outputs": [
    {
     "name": "stdout",
     "output_type": "stream",
     "text": [
      "['pos' 'neg' 'pos' ... 'neg' 'neg' 'neg']\n",
      "[[2205  316]\n",
      " [ 286 2193]]\n",
      "0.8796\n"
     ]
    }
   ],
   "source": [
    "# Test C value and see the results\n",
    "import sklearn.metrics\n",
    "predictions_dev1=classifier4.predict(feature_matrix_dev1)\n",
    "print(predictions_dev1)\n",
    "print(sklearn.metrics.confusion_matrix(dev_labels,predictions_dev1))\n",
    "print(sklearn.metrics.accuracy_score(dev_labels,predictions_dev1))"
   ]
  },
  {
   "cell_type": "markdown",
   "metadata": {},
   "source": [
    "N-gram = 2, C = 0.0005"
   ]
  },
  {
   "cell_type": "code",
   "execution_count": 20,
   "metadata": {},
   "outputs": [],
   "source": [
    "from sklearn.model_selection import train_test_split #split data\n",
    "\n",
    "train_texts, dev_texts, train_labels, dev_labels=train_test_split(texts,labels,test_size=0.2)\n",
    "vectorizer2=CountVectorizer(max_features=None,binary=True,ngram_range=(2,2))\n",
    "feature_matrix_train2=vectorizer2.fit_transform(train_texts)\n",
    "feature_matrix_dev2=vectorizer2.transform(dev_texts)"
   ]
  },
  {
   "cell_type": "code",
   "execution_count": 21,
   "metadata": {},
   "outputs": [
    {
     "name": "stdout",
     "output_type": "stream",
     "text": [
      "(20000, 1224196)\n",
      "(5000, 1224196)\n"
     ]
    }
   ],
   "source": [
    "print(feature_matrix_train2.shape)\n",
    "print(feature_matrix_dev2.shape)"
   ]
  },
  {
   "cell_type": "code",
   "execution_count": 22,
   "metadata": {},
   "outputs": [
    {
     "name": "stdout",
     "output_type": "stream",
     "text": [
      "[LibLinear]"
     ]
    },
    {
     "data": {
      "text/plain": [
       "LinearSVC(C=0.0005, verbose=1)"
      ]
     },
     "execution_count": 22,
     "metadata": {},
     "output_type": "execute_result"
    }
   ],
   "source": [
    "import sklearn.svm #train via classifier\n",
    "classifier5=sklearn.svm.LinearSVC(C=0.0005,verbose=1)\n",
    "classifier5.fit(feature_matrix_train2, train_labels)"
   ]
  },
  {
   "cell_type": "code",
   "execution_count": 23,
   "metadata": {},
   "outputs": [
    {
     "name": "stdout",
     "output_type": "stream",
     "text": [
      "DEV 0.855\n",
      "TRAIN 0.9384\n"
     ]
    }
   ],
   "source": [
    "#Test data\n",
    "print(\"DEV\",classifier5.score(feature_matrix_dev2, dev_labels))\n",
    "print(\"TRAIN\",classifier5.score(feature_matrix_train2, train_labels))"
   ]
  },
  {
   "cell_type": "code",
   "execution_count": 24,
   "metadata": {},
   "outputs": [
    {
     "name": "stdout",
     "output_type": "stream",
     "text": [
      "['neg' 'neg' 'pos' ... 'pos' 'pos' 'pos']\n",
      "[[2079  424]\n",
      " [ 301 2196]]\n",
      "0.855\n"
     ]
    }
   ],
   "source": [
    "# Test C value and see the results\n",
    "import sklearn.metrics\n",
    "predictions_dev2=classifier5.predict(feature_matrix_dev2)\n",
    "print(predictions_dev2)\n",
    "print(sklearn.metrics.confusion_matrix(dev_labels,predictions_dev2))\n",
    "print(sklearn.metrics.accuracy_score(dev_labels,predictions_dev2))"
   ]
  },
  {
   "cell_type": "markdown",
   "metadata": {},
   "source": [
    "N-grams = 2 Countvectorizer, C = 0.005"
   ]
  },
  {
   "cell_type": "code",
   "execution_count": 25,
   "metadata": {},
   "outputs": [
    {
     "name": "stdout",
     "output_type": "stream",
     "text": [
      "[LibLinear]"
     ]
    },
    {
     "data": {
      "text/plain": [
       "LinearSVC(C=0.005, verbose=1)"
      ]
     },
     "execution_count": 25,
     "metadata": {},
     "output_type": "execute_result"
    }
   ],
   "source": [
    "import sklearn.svm #train via classifier\n",
    "classifier5=sklearn.svm.LinearSVC(C=0.005,verbose=1)\n",
    "classifier5.fit(feature_matrix_train2, train_labels)"
   ]
  },
  {
   "cell_type": "code",
   "execution_count": 26,
   "metadata": {},
   "outputs": [
    {
     "name": "stdout",
     "output_type": "stream",
     "text": [
      "DEV 0.877\n",
      "TRAIN 0.99865\n"
     ]
    }
   ],
   "source": [
    "#Test data\n",
    "print(\"DEV\",classifier5.score(feature_matrix_dev2, dev_labels))\n",
    "print(\"TRAIN\",classifier5.score(feature_matrix_train2, train_labels))"
   ]
  },
  {
   "cell_type": "code",
   "execution_count": 27,
   "metadata": {},
   "outputs": [
    {
     "name": "stdout",
     "output_type": "stream",
     "text": [
      "['neg' 'neg' 'neg' ... 'pos' 'pos' 'pos']\n",
      "[[2153  350]\n",
      " [ 265 2232]]\n",
      "0.877\n"
     ]
    }
   ],
   "source": [
    "# Test C value and see the results\n",
    "import sklearn.metrics\n",
    "predictions_dev2=classifier5.predict(feature_matrix_dev2)\n",
    "print(predictions_dev2)\n",
    "print(sklearn.metrics.confusion_matrix(dev_labels,predictions_dev2))\n",
    "print(sklearn.metrics.accuracy_score(dev_labels,predictions_dev2))"
   ]
  },
  {
   "cell_type": "markdown",
   "metadata": {},
   "source": [
    "N-gram = 3, C = 0.0005"
   ]
  },
  {
   "cell_type": "code",
   "execution_count": 28,
   "metadata": {},
   "outputs": [],
   "source": [
    "from sklearn.model_selection import train_test_split #split data\n",
    "\n",
    "train_texts, dev_texts, train_labels, dev_labels=train_test_split(texts,labels,test_size=0.2)\n",
    "vectorizer3=CountVectorizer(max_features=None,binary=True,ngram_range=(3,3))\n",
    "feature_matrix_train3=vectorizer3.fit_transform(train_texts)\n",
    "feature_matrix_dev3=vectorizer3.transform(dev_texts)"
   ]
  },
  {
   "cell_type": "code",
   "execution_count": 29,
   "metadata": {},
   "outputs": [
    {
     "name": "stdout",
     "output_type": "stream",
     "text": [
      "(20000, 3013093)\n",
      "(5000, 3013093)\n"
     ]
    }
   ],
   "source": [
    "print(feature_matrix_train3.shape)\n",
    "print(feature_matrix_dev3.shape)"
   ]
  },
  {
   "cell_type": "code",
   "execution_count": 30,
   "metadata": {},
   "outputs": [
    {
     "name": "stdout",
     "output_type": "stream",
     "text": [
      "[LibLinear]"
     ]
    },
    {
     "data": {
      "text/plain": [
       "LinearSVC(C=0.0005, verbose=1)"
      ]
     },
     "execution_count": 30,
     "metadata": {},
     "output_type": "execute_result"
    }
   ],
   "source": [
    "import sklearn.svm #train via classifier\n",
    "classifier6=sklearn.svm.LinearSVC(C=0.0005,verbose=1)\n",
    "classifier6.fit(feature_matrix_train3, train_labels)"
   ]
  },
  {
   "cell_type": "code",
   "execution_count": 31,
   "metadata": {},
   "outputs": [
    {
     "name": "stdout",
     "output_type": "stream",
     "text": [
      "DEV 0.7804\n",
      "TRAIN 0.97205\n"
     ]
    }
   ],
   "source": [
    "#Test data\n",
    "print(\"DEV\",classifier6.score(feature_matrix_dev3, dev_labels))\n",
    "print(\"TRAIN\",classifier6.score(feature_matrix_train3, train_labels))"
   ]
  },
  {
   "cell_type": "code",
   "execution_count": 32,
   "metadata": {},
   "outputs": [
    {
     "name": "stdout",
     "output_type": "stream",
     "text": [
      "['neg' 'neg' 'pos' ... 'pos' 'pos' 'pos']\n",
      "[[1877  600]\n",
      " [ 498 2025]]\n",
      "0.7804\n"
     ]
    }
   ],
   "source": [
    "# Test C value and see the results\n",
    "import sklearn.metrics\n",
    "predictions_dev3=classifier6.predict(feature_matrix_dev3)\n",
    "print(predictions_dev3)\n",
    "print(sklearn.metrics.confusion_matrix(dev_labels,predictions_dev3))\n",
    "print(sklearn.metrics.accuracy_score(dev_labels,predictions_dev3))"
   ]
  },
  {
   "cell_type": "markdown",
   "metadata": {},
   "source": [
    "N-gram = 3, C = 0.005"
   ]
  },
  {
   "cell_type": "code",
   "execution_count": 33,
   "metadata": {
    "scrolled": true
   },
   "outputs": [
    {
     "name": "stdout",
     "output_type": "stream",
     "text": [
      "[LibLinear]"
     ]
    },
    {
     "data": {
      "text/plain": [
       "LinearSVC(C=0.005, verbose=1)"
      ]
     },
     "execution_count": 33,
     "metadata": {},
     "output_type": "execute_result"
    }
   ],
   "source": [
    "import sklearn.svm #train via classifier\n",
    "classifier6=sklearn.svm.LinearSVC(C=0.005,verbose=1)\n",
    "classifier6.fit(feature_matrix_train3, train_labels)"
   ]
  },
  {
   "cell_type": "code",
   "execution_count": 34,
   "metadata": {},
   "outputs": [
    {
     "name": "stdout",
     "output_type": "stream",
     "text": [
      "DEV 0.817\n",
      "TRAIN 0.99975\n"
     ]
    }
   ],
   "source": [
    "#Test data\n",
    "print(\"DEV\",classifier6.score(feature_matrix_dev3, dev_labels))\n",
    "print(\"TRAIN\",classifier6.score(feature_matrix_train3, train_labels))"
   ]
  },
  {
   "cell_type": "code",
   "execution_count": 35,
   "metadata": {},
   "outputs": [
    {
     "name": "stdout",
     "output_type": "stream",
     "text": [
      "['neg' 'neg' 'pos' ... 'pos' 'pos' 'pos']\n",
      "[[1945  532]\n",
      " [ 383 2140]]\n",
      "0.817\n"
     ]
    }
   ],
   "source": [
    "# Test C value and see the results\n",
    "import sklearn.metrics\n",
    "predictions_dev3=classifier6.predict(feature_matrix_dev3)\n",
    "print(predictions_dev3)\n",
    "print(sklearn.metrics.confusion_matrix(dev_labels,predictions_dev3))\n",
    "print(sklearn.metrics.accuracy_score(dev_labels,predictions_dev3))"
   ]
  },
  {
   "cell_type": "markdown",
   "metadata": {},
   "source": [
    "N-gram = 4, C = 0.0005"
   ]
  },
  {
   "cell_type": "code",
   "execution_count": 36,
   "metadata": {},
   "outputs": [],
   "source": [
    "from sklearn.model_selection import train_test_split #split data\n",
    "\n",
    "train_texts, dev_texts, train_labels, dev_labels=train_test_split(texts,labels,test_size=0.2)\n",
    "vectorizer4=CountVectorizer(max_features=None,binary=True,ngram_range=(4,4))\n",
    "feature_matrix_train4=vectorizer4.fit_transform(train_texts)\n",
    "feature_matrix_dev4=vectorizer4.transform(dev_texts)"
   ]
  },
  {
   "cell_type": "code",
   "execution_count": 37,
   "metadata": {},
   "outputs": [
    {
     "name": "stdout",
     "output_type": "stream",
     "text": [
      "(20000, 3948526)\n",
      "(5000, 3948526)\n"
     ]
    }
   ],
   "source": [
    "print(feature_matrix_train4.shape)\n",
    "print(feature_matrix_dev4.shape)"
   ]
  },
  {
   "cell_type": "code",
   "execution_count": 38,
   "metadata": {},
   "outputs": [
    {
     "name": "stdout",
     "output_type": "stream",
     "text": [
      "[LibLinear]"
     ]
    },
    {
     "data": {
      "text/plain": [
       "LinearSVC(C=0.0005, verbose=1)"
      ]
     },
     "execution_count": 38,
     "metadata": {},
     "output_type": "execute_result"
    }
   ],
   "source": [
    "import sklearn.svm #train via classifier\n",
    "classifier7=sklearn.svm.LinearSVC(C=0.0005,verbose=1)\n",
    "classifier7.fit(feature_matrix_train4, train_labels)"
   ]
  },
  {
   "cell_type": "code",
   "execution_count": 39,
   "metadata": {},
   "outputs": [
    {
     "name": "stdout",
     "output_type": "stream",
     "text": [
      "DEV 0.7442\n",
      "TRAIN 0.9943\n"
     ]
    }
   ],
   "source": [
    "#Test data\n",
    "print(\"DEV\",classifier7.score(feature_matrix_dev4, dev_labels))\n",
    "print(\"TRAIN\",classifier7.score(feature_matrix_train4, train_labels))"
   ]
  },
  {
   "cell_type": "code",
   "execution_count": 40,
   "metadata": {
    "scrolled": true
   },
   "outputs": [
    {
     "name": "stdout",
     "output_type": "stream",
     "text": [
      "['neg' 'neg' 'neg' ... 'pos' 'neg' 'pos']\n",
      "[[2014  452]\n",
      " [ 827 1707]]\n",
      "0.7442\n"
     ]
    }
   ],
   "source": [
    "# Test C value and see the results\n",
    "import sklearn.metrics\n",
    "predictions_dev4=classifier7.predict(feature_matrix_dev4)\n",
    "print(predictions_dev4)\n",
    "print(sklearn.metrics.confusion_matrix(dev_labels,predictions_dev4))\n",
    "print(sklearn.metrics.accuracy_score(dev_labels,predictions_dev4))"
   ]
  },
  {
   "cell_type": "markdown",
   "metadata": {},
   "source": [
    "N-gram = 4, C = 0.005"
   ]
  },
  {
   "cell_type": "code",
   "execution_count": 41,
   "metadata": {},
   "outputs": [
    {
     "name": "stdout",
     "output_type": "stream",
     "text": [
      "[LibLinear]"
     ]
    },
    {
     "data": {
      "text/plain": [
       "LinearSVC(C=0.005, verbose=1)"
      ]
     },
     "execution_count": 41,
     "metadata": {},
     "output_type": "execute_result"
    }
   ],
   "source": [
    "import sklearn.svm #train via classifier\n",
    "classifier7=sklearn.svm.LinearSVC(C=0.005,verbose=1)\n",
    "classifier7.fit(feature_matrix_train4, train_labels)"
   ]
  },
  {
   "cell_type": "code",
   "execution_count": 42,
   "metadata": {},
   "outputs": [
    {
     "name": "stdout",
     "output_type": "stream",
     "text": [
      "DEV 0.767\n",
      "TRAIN 0.99985\n"
     ]
    }
   ],
   "source": [
    "#Test data\n",
    "print(\"DEV\",classifier7.score(feature_matrix_dev4, dev_labels))\n",
    "print(\"TRAIN\",classifier7.score(feature_matrix_train4, train_labels))"
   ]
  },
  {
   "cell_type": "code",
   "execution_count": 43,
   "metadata": {
    "scrolled": true
   },
   "outputs": [
    {
     "name": "stdout",
     "output_type": "stream",
     "text": [
      "['neg' 'neg' 'neg' ... 'pos' 'pos' 'pos']\n",
      "[[1796  670]\n",
      " [ 495 2039]]\n",
      "0.767\n"
     ]
    }
   ],
   "source": [
    "# Test C value and see the results\n",
    "import sklearn.metrics\n",
    "predictions_dev4=classifier7.predict(feature_matrix_dev4)\n",
    "print(predictions_dev4)\n",
    "print(sklearn.metrics.confusion_matrix(dev_labels,predictions_dev4))\n",
    "print(sklearn.metrics.accuracy_score(dev_labels,predictions_dev4))"
   ]
  },
  {
   "cell_type": "markdown",
   "metadata": {},
   "source": [
    "Conclusion:\n",
    "- Lower n-grams will return better accuracy results\n",
    "- Lower C-value will return better accuracy results"
   ]
  },
  {
   "cell_type": "code",
   "execution_count": null,
   "metadata": {},
   "outputs": [],
   "source": []
  }
 ],
 "metadata": {
  "kernelspec": {
   "display_name": "Python 3",
   "language": "python",
   "name": "python3"
  },
  "language_info": {
   "codemirror_mode": {
    "name": "ipython",
    "version": 3
   },
   "file_extension": ".py",
   "mimetype": "text/x-python",
   "name": "python",
   "nbconvert_exporter": "python",
   "pygments_lexer": "ipython3",
   "version": "3.8.3"
  }
 },
 "nbformat": 4,
 "nbformat_minor": 4
}
